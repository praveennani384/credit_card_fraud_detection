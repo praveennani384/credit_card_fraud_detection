{
 "cells": [
  {
   "cell_type": "code",
   "execution_count": 31,
   "id": "fae47449",
   "metadata": {},
   "outputs": [
    {
     "name": "stdout",
     "output_type": "stream",
     "text": [
      "Accuracy: 1.0\n"
     ]
    }
   ],
   "source": [
    "from sklearn.pipeline import Pipeline\n",
    "from sklearn.preprocessing import StandardScaler\n",
    "from sklearn.ensemble import RandomForestClassifier\n",
    "from sklearn.metrics import accuracy_score\n",
    "import pandas as pd\n",
    "import joblib\n",
    "import warnings\n",
    "\n",
    "warnings.filterwarnings(\"ignore\")\n",
    "\n",
    "# Load your data\n",
    "data = pd.read_excel('predictions.xlsx')\n",
    "\n",
    "# Define features and target variable\n",
    "X = data.drop('Class', axis=1)\n",
    "y = data['Class']\n",
    "\n",
    "# Define the path to the trained model .pkl file\n",
    "model_path = 'credit_card_fraud_detection_model.pkl'\n",
    "\n",
    "# Load the trained model from .pkl file\n",
    "model = joblib.load(model_path)\n",
    "\n",
    "# Define the pipeline\n",
    "pipeline = Pipeline([\n",
    "    ('scaler', StandardScaler()),  # Preprocessing step: feature scaling\n",
    "    ('model', model)  # Model step: Random Forest Classifier\n",
    "])\n",
    "\n",
    "# Fit the pipeline on the data\n",
    "pipeline.fit(X, y)\n",
    "\n",
    "# Make predictions using the fitted pipeline\n",
    "y_pred = pipeline.predict(X)\n",
    "\n",
    "# Evaluate the model\n",
    "accuracy = accuracy_score(y, y_pred)\n",
    "print(\"Accuracy:\", accuracy)\n"
   ]
  },
  {
   "cell_type": "code",
   "execution_count": null,
   "id": "22cd50b0",
   "metadata": {},
   "outputs": [],
   "source": []
  }
 ],
 "metadata": {
  "kernelspec": {
   "display_name": "Python 3 (ipykernel)",
   "language": "python",
   "name": "python3"
  },
  "language_info": {
   "codemirror_mode": {
    "name": "ipython",
    "version": 3
   },
   "file_extension": ".py",
   "mimetype": "text/x-python",
   "name": "python",
   "nbconvert_exporter": "python",
   "pygments_lexer": "ipython3",
   "version": "3.11.5"
  }
 },
 "nbformat": 4,
 "nbformat_minor": 5
}
